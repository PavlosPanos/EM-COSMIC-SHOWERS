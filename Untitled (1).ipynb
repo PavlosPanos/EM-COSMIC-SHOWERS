{
 "cells": [
  {
   "cell_type": "code",
   "execution_count": 31,
   "id": "3d341d77",
   "metadata": {},
   "outputs": [
    {
     "name": "stdout",
     "output_type": "stream",
     "text": [
      "Η αρχική ενέργεια του ηλεκτρονίου είναι  787031.0103150913\n",
      "Το ύψος στο οποίο εισέρχεται το ηλεκτρόνιο είναι  7.255440704669266 Km\n"
     ]
    },
    {
     "data": {
      "image/png": "[encoded data removed]",
      "text/plain": [
       "<Figure size 432x288 with 1 Axes>"
      ]
     },
     "metadata": {
      "needs_background": "light"
     },
     "output_type": "display_data"
    },
    {
     "name": "stdout",
     "output_type": "stream",
     "text": [
      "Ο καταιγισμός του ηλεκτρονίου φτάνει σε βάθος  22.907989050732162 Xo\n",
      "Δημιουργούνται συνολικά Ν=  7870310.103150913  σωματήδια\n"
     ]
    },
    {
     "data": {
      "image/png": "[encoded data removed]",
      "text/plain": [
       "<Figure size 432x288 with 1 Axes>"
      ]
     },
     "metadata": {
      "needs_background": "light"
     },
     "output_type": "display_data"
    },
    {
     "name": "stdout",
     "output_type": "stream",
     "text": [
      "Το βάθος του καταιγισμού είναι d=  6.968610269232723 Km\n",
      "Η απόσταση από το έδαφος που σταματάει ο καταιγισμός είναι  286.830435436543 m\n"
     ]
    }
   ],
   "source": [
    "import numpy as np\n",
    "import matplotlib.pyplot as plt\n",
    "from numpy import random\n",
    "energy_min= 10**4\n",
    "energy_max= 10**6\n",
    "energy = (energy_max-energy_min)*random.rand()-energy_min\n",
    "print(\"Η αρχική ενέργεια του ηλεκτρονίου είναι \" , energy)\n",
    "altitude= (10-6)*random.rand() + 6 # Εδώ θεωρούμε ότι τα πιθανά ύψη είναι από 6 μέχρι και 7 Km\n",
    "print(\"Το ύψος στο οποίο εισέρχεται το ηλεκτρόνιο είναι \" , altitude , \"Km\")\n",
    "def energy_loss(xo) :  #Η συνάρτηση που δίνει την απ΄όλεια ενέργειας του ηλεκτρονίου ανά Χο\n",
    "    return(-energy/xo)\n",
    "#Σχεδιάζουμε την συνάρτηση απορόφυσης ενέργειας ανά μήκος\n",
    "xo_arg = np.arange(1,30,0.2)\n",
    "plt.plot(xo_arg,energy_loss(xo_arg))\n",
    "plt.xlabel('X0')\n",
    "plt.ylabel('dE\\dx')\n",
    "plt.show()\n",
    "\n",
    "#Ακολούθως ετοιμάζουμε το ηλεκτρόνιο για να αλληλεπιδράσει με την ατμόσφαιρα \n",
    "energy_crit =0.1\n",
    "t_max= (1/np.log(2))*np.log(energy/energy_crit)\n",
    "print(\"Ο καταιγισμός του ηλεκτρονίου φτάνει σε βάθος \" , t_max , \"Xo\")\n",
    "n_max = 2**t_max\n",
    "print(\"Δημιουργούνται συνολικά Ν= \",n_max, \" σωματήδια\")\n",
    "\n",
    "def energy_per_length(energy,t):\n",
    "    return(energy/2**t)\n",
    "\n",
    "t_arg=np.arange(0, t_max +1)\n",
    "plt.plot(t_arg,energy_per_length(energy,t_arg),0.2)\n",
    "plt.xlabel('t')\n",
    "plt.ylabel('E(t)')\n",
    "plt.show()\n",
    "\n",
    "#Τέλος υπολογίζουμε το βάθος που έφτασε ο καταιγισμός εντός της ατμόσφαιρας\n",
    "\n",
    "x0 = 304.2\n",
    "d = t_max*x0/1000\n",
    "h=altitude - d\n",
    "print(\"Το βάθος του καταιγισμού είναι d= \" , d, \"Km\")\n",
    "print(\"Η απόσταση από το έδαφος που σταματάει ο καταιγισμός είναι \" , h*1000 , \"m\")"
   ]
  },
  {
   "cell_type": "code",
   "execution_count": 19,
   "id": "4ef56473",
   "metadata": {},
   "outputs": [
    {
     "name": "stdout",
     "output_type": "stream",
     "text": [
      "108 0.05765411414689408\n"
     ]
    }
   ],
   "source": [
    "#Επαναλαμβάνουμε παρόμοια διαδικασία για τα φωτόνια \n",
    "x0 = 304.2\n",
    "en = 817088\n",
    "τ = 7/9*1/x0\n",
    "def energy_photon(e,τ,t):\n",
    "    return(e*np.exp(-τ*t))\n",
    "    \n",
    "    \n",
    "\n",
    "#Εδώ έχουμε την συνάρτηση που μας δίνει την ενέργεια του φωτονίου καθώς αυτό εισέρχεται στην ατμόσφαιρα\n",
    "# Εδώ πρέπει να προσέξουμε ότι η συνάρτηση που μας δίνει την ενέργεια έχει διαφορετική μορφή για φωτόνια με ενέργεια πάνω από 1\n",
    "#GeV και διαφορετική για κάτω από 1 μέχρι 0.1\n",
    "#Παρακάτω θα σχεδιάσουμε το διάγραμμα της ενέργειας με το μήκος ακτινοβολίας και με το πραγματικά βάθος \n",
    "#αναζητούμε τώρα το βάθος στο οποίο φτάνει το σωματήδιό μας \n",
    "t=0\n",
    "while en > 1 :\n",
    "    en = energy_photon(en,τ,t)\n",
    "    t=t+1\n",
    "while en >0.1:\n",
    "    en = en/2\n",
    "    t=t+1\n",
    "print(t,en)\n",
    "\n",
    "def alt(altitude,t):\n",
    "    return(altitude-t*x0/1000)\n"
   ]
  },
  {
   "cell_type": "code",
   "execution_count": 20,
   "id": "60892ba2",
   "metadata": {},
   "outputs": [
    {
     "name": "stdout",
     "output_type": "stream",
     "text": [
      "104\n"
     ]
    }
   ],
   "source": [
    "#Επαναλαμβάνουμε παρόμοια διαδικασία για τα φωτόνια \n",
    "x0 = 304.2\n",
    "en = 817088\n",
    "τ = 7/9*1/x0\n",
    "def energy_photon(e,τ,t):\n",
    "    return(e*np.exp(-τ*t))\n",
    "    \n",
    "    \n",
    "\n",
    "#Εδώ έχουμε την συνάρτηση που μας δίνει την ενέργεια του φωτονίου καθώς αυτό εισέρχεται στην ατμόσφαιρα\n",
    "# Εδώ πρέπει να προσέξουμε ότι η συνάρτηση που μας δίνει την ενέργεια έχει διαφορετική μορφή για φωτόνια με ενέργεια πάνω από 1\n",
    "#GeV και διαφορετική για κάτω από 1 μέχρι 0.1\n",
    "#Παρακάτω θα σχεδιάσουμε το διάγραμμα της ενέργειας με το μήκος ακτινοβολίας και με το πραγματικά βάθος \n",
    "#αναζητούμε τώρα το βάθος στο οποίο φτάνει το σωματήδιό μας\n",
    "t=0\n",
    "while en > 1 :\n",
    "    en = energy_photon(en,τ,t)\n",
    "    t=t+1\n",
    "print(t)"
   ]
  },
  {
   "cell_type": "code",
   "execution_count": 85,
   "id": "a334c1d7",
   "metadata": {},
   "outputs": [
    {
     "data": {
      "text/plain": [
       "tuple"
      ]
     },
     "execution_count": 85,
     "metadata": {},
     "output_type": "execute_result"
    }
   ],
   "source": [
    "type(e_pros)"
   ]
  },
  {
   "cell_type": "code",
   "execution_count": 86,
   "id": "4118ca50",
   "metadata": {},
   "outputs": [
    {
     "data": {
      "text/plain": [
       "()"
      ]
     },
     "execution_count": 86,
     "metadata": {},
     "output_type": "execute_result"
    }
   ],
   "source": [
    "e_pros"
   ]
  },
  {
   "cell_type": "code",
   "execution_count": 87,
   "id": "d5eb6ade",
   "metadata": {},
   "outputs": [
    {
     "ename": "SyntaxError",
     "evalue": "invalid syntax (3378934994.py, line 1)",
     "output_type": "error",
     "traceback": [
      "\u001b[0;36m  File \u001b[0;32m\"/tmp/ipykernel_513/3378934994.py\"\u001b[0;36m, line \u001b[0;32m1\u001b[0m\n\u001b[0;31m    float t\u001b[0m\n\u001b[0m          ^\u001b[0m\n\u001b[0;31mSyntaxError\u001b[0m\u001b[0;31m:\u001b[0m invalid syntax\n"
     ]
    }
   ],
   "source": []
  },
  {
   "cell_type": "code",
   "execution_count": 23,
   "id": "aadfff44",
   "metadata": {},
   "outputs": [
    {
     "data": {
      "text/plain": [
       "Text(0, 0.5, 'ln(tmax)')"
      ]
     },
     "execution_count": 23,
     "metadata": {},
     "output_type": "execute_result"
    },
    {
     "data": {
      "image/png": "[encoded data removed]",
      "text/plain": [
       "<Figure size 432x288 with 1 Axes>"
      ]
     },
     "metadata": {
      "needs_background": "light"
     },
     "output_type": "display_data"
    }
   ],
   "source": [
    "plt.plot((10**7,3*10**7,10**8),(np.log(10**7),np.log(3*10**7),np.log(10**8)))\n",
    "plt.xlabel('Eo * 10^8')\n",
    "plt.ylabel('ln(tmax)')"
   ]
  },
  {
   "cell_type": "code",
   "execution_count": 79,
   "id": "920435b5",
   "metadata": {},
   "outputs": [
    {
     "ename": "TypeError",
     "evalue": "float() argument must be a string or a number, not 'tuple'",
     "output_type": "error",
     "traceback": [
      "\u001b[0;31m---------------------------------------------------------------------------\u001b[0m",
      "\u001b[0;31mTypeError\u001b[0m                                 Traceback (most recent call last)",
      "\u001b[0;32m/tmp/ipykernel_513/478838646.py\u001b[0m in \u001b[0;36m<module>\u001b[0;34m\u001b[0m\n\u001b[0;32m----> 1\u001b[0;31m \u001b[0mfloat\u001b[0m\u001b[0;34m(\u001b[0m\u001b[0mE\u001b[0m\u001b[0;34m)\u001b[0m\u001b[0;34m\u001b[0m\u001b[0;34m\u001b[0m\u001b[0m\n\u001b[0m",
      "\u001b[0;31mTypeError\u001b[0m: float() argument must be a string or a number, not 'tuple'"
     ]
    }
   ],
   "source": []
  },
  {
   "cell_type": "code",
   "execution_count": 40,
   "id": "2ecfe48a",
   "metadata": {},
   "outputs": [
    {
     "data": {
      "text/plain": [
       "Text(0, 0.5, 'Ύψος από την επιφάνεια της γης')"
      ]
     },
     "execution_count": 40,
     "metadata": {},
     "output_type": "execute_result"
    },
    {
     "data": {
      "image/png": "[encoded data removed]",
      "text/plain": [
       "<Figure size 432x288 with 1 Axes>"
      ]
     },
     "metadata": {
      "needs_background": "light"
     },
     "output_type": "display_data"
    }
   ],
   "source": [
    "import numpy as np\n",
    "import matplotlib.pyplot as plt\n",
    "from numpy import random\n",
    "altitude= (10-6)*random.rand() + 6 \n",
    "def energy_loss(xo) :  \n",
    "        return(-energy/xo)\n",
    "def energy_per_length(energy,t):\n",
    "    return(energy/2**t)\n",
    "energy_crit =0.1\n",
    "x0 = 304.2\n",
    "alt_index=[]\n",
    "energy_index=[]\n",
    "for i in range(0,10):\n",
    "    energy_min= 10**4\n",
    "    energy_max= 10**6\n",
    "    energy = (energy_max-energy_min)*random.rand()-energy_min\n",
    "    t_max= (1/np.log(2))*np.log(energy/energy_crit)\n",
    "    n_max = 2**t_max\n",
    "    d = t_max*x0/1000\n",
    "    h=altitude - d\n",
    "    energy_index.append(energy)\n",
    "    alt_index.append(h)\n",
    "\n",
    "plt.plot(energy_index,alt_index,\"o\")\n",
    "plt.xlabel('E0')\n",
    "plt.ylabel('Ύψος από την επιφάνεια της γης')"
   ]
  },
  {
   "cell_type": "code",
   "execution_count": 34,
   "id": "434b3051",
   "metadata": {},
   "outputs": [
    {
     "data": {
      "text/plain": [
       "[2.9226113430455856,\n",
       " 2.363290781581833,\n",
       " 2.548266723912744,\n",
       " 2.8687610355165702,\n",
       " 2.2443598549447996,\n",
       " 2.2009966943282224,\n",
       " nan,\n",
       " 2.5655899377751386,\n",
       " 2.459170537925912,\n",
       " 2.590912040781883]"
      ]
     },
     "execution_count": 34,
     "metadata": {},
     "output_type": "execute_result"
    }
   ],
   "source": [
    "alt_index"
   ]
  },
  {
   "cell_type": "code",
   "execution_count": 46,
   "id": "0db20e88",
   "metadata": {},
   "outputs": [
    {
     "name": "stdout",
     "output_type": "stream",
     "text": [
      "Θαέχουμε δίδυμη γένεση μέχρι βάθος  5.324435223142073 Km\n",
      "Από το σημείο αυτό και για βάθος  1.6606235304039005  θα επικρατεί το φωτοηλεκτρικό και Compton\n",
      "Επομένως συνολικά το φωτόνιο με την ενέργεια αυτή φτάνει σε ύψος 114.94124645402604 m\n"
     ]
    }
   ],
   "source": [
    "τ = 7/9*1/x0\n",
    "energy = 817088.17\n",
    "altitude =7.1\n",
    "t_max= (1/np.log(2))*np.log(energy/energy_crit)\n",
    "n_max = 2**t_max\n",
    "d = t_max*x0/1000\n",
    "h=altitude - d\n",
    "x_low = ((1/τ)*np.log((energy/1)))/1000\n",
    "dx = d - x_low\n",
    "print(\"Θαέχουμε δίδυμη γένεση μέχρι βάθος \" , x_low , \"Km\")\n",
    "print(\"Από το σημείο αυτό και για βάθος \" , dx , \" θα επικρατεί το φωτοηλεκτρικό και Compton\")\n",
    "total_depth = x_low + dx\n",
    "\n",
    "print(\"Επομένως συνολικά το φωτόνιο με την ενέργεια αυτή φτάνει σε ύψος\" , h*1000 , \"m\")"
   ]
  },
  {
   "cell_type": "code",
   "execution_count": null,
   "id": "48555b65",
   "metadata": {},
   "outputs": [],
   "source": []
  }
 ],
 "metadata": {
  "kernelspec": {
   "display_name": "Python 3",
   "language": "python",
   "name": "python3"
  },
  "language_info": {
   "codemirror_mode": {
    "name": "ipython",
    "version": 3
   },
   "file_extension": ".py",
   "mimetype": "text/x-python",
   "name": "python",
   "nbconvert_exporter": "python",
   "pygments_lexer": "ipython3",
   "version": "3.9.6"
  }
 },
 "nbformat": 4,
 "nbformat_minor": 5
}
